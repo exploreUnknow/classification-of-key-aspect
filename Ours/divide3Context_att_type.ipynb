{
 "cells": [
  {
   "cell_type": "code",
   "execution_count": 12,
   "metadata": {},
   "outputs": [
    {
     "name": "stdout",
     "output_type": "stream",
     "text": [
      "839\n",
      "839\n",
      "839\n"
     ]
    }
   ],
   "source": [
    "#从文件中获取第i类的三个方面的描述,为计算tfidf做准备\n",
    "\n",
    "i = 3\n",
    "import csv\n",
    "path_in = f\"/home/user/Programs/PMA_lihang/mypaper/data/1_3_aspects/AttType{i}_headTo_v_i_t.csv\"\n",
    "# path_in = \"/home/user/Programs/PMA_lihang/mypaper/data/1_3_aspects/Vec5_headTo_vt_rt_at.csv\"\n",
    "# path_in = \"/home/user/Programs/PMA_lihang/mypaper/data/1_3_aspects/Root_cause10_headTo_vt_av_im.csv\"\n",
    "# path_in = f\"/home/user/Programs/PMA_lihang/mypaper/data/1_3_aspects/Vec{i}_headTo_vt_rt_at.csv\"\n",
    "\n",
    "# path_in = f\"/home/user/Programs/PMA_lihang/mypaper/data/1_3_aspects/V_type{i}_headTo_rt_av_im.csv\"\n",
    "f_in = open(path_in, 'r', encoding='utf-8')\n",
    "f_in_reader = csv.reader(f_in)\n",
    "\n",
    "v_ = []\n",
    "i_ = []\n",
    "t_ = []\n",
    "for row in f_in_reader:\n",
    "    v_.append(row[1])\n",
    "    i_.append(row[2])\n",
    "    t_.append(row[3])\n",
    "\n",
    "print(len(v_))\n",
    "print(len(i_))\n",
    "print(len(t_))"
   ]
  },
  {
   "cell_type": "code",
   "execution_count": 15,
   "metadata": {},
   "outputs": [],
   "source": [
    "# path_out = \"/home/user/Programs/PMA_lihang/mypaper/label_description/for_others/vec5_vt.txt\"\n",
    "# path_out2 = \"/home/user/Programs/PMA_lihang/mypaper/label_description/for_others/vec5_rt.txt\"\n",
    "# path_out3 = \"/home/user/Programs/PMA_lihang/mypaper/label_description/for_others/vec5_at.txt\"\n",
    "\n",
    "path_out = f\"/home/user/Programs/PMA_lihang/mypaper/label_description/for_others/att_type{i}_v.txt\"\n",
    "path_out2 = f\"/home/user/Programs/PMA_lihang/mypaper/label_description/for_others/att_type{i}_i.txt\"\n",
    "path_out3 = f\"/home/user/Programs/PMA_lihang/mypaper/label_description/for_others/att_type{i}_t.txt\"\n",
    "f_out = open(path_out, 'w', encoding='utf-8')\n",
    "f_out2 = open(path_out2, 'w', encoding='utf-8')\n",
    "f_out3 = open(path_out3, 'w', encoding='utf-8')\n",
    "\n",
    "for i in range(len(v_)):\n",
    "    f_out.write(v_[i] + '\\n')\n",
    "\n",
    "for i in range(len(i_)):\n",
    "    f_out2.write(i_[i] + '\\n')\n",
    "\n",
    "for i in range(len(t_)):\n",
    "    f_out3.write(t_[i] + '\\n')\n",
    "\n",
    "\n",
    "\n"
   ]
  },
  {
   "cell_type": "code",
   "execution_count": 16,
   "metadata": {},
   "outputs": [
    {
     "name": "stdout",
     "output_type": "stream",
     "text": [
      "**********0**********\n",
      "78376\n",
      "78466\n",
      "**********1**********\n",
      "10692\n",
      "10692\n",
      "**********2**********\n",
      "3044\n",
      "3044\n",
      "**********3**********\n",
      "839\n",
      "839\n",
      "**********4**********\n",
      "416\n",
      "416\n",
      "**********5**********\n",
      "1166\n",
      "1166\n"
     ]
    }
   ],
   "source": [
    "#检查文件行数是否一样\n",
    "ii = 6\n",
    "import csv\n",
    "for i in range(ii):\n",
    "    print(f\"**********{i}**********\")\n",
    "    with open(f'/home/user/Programs/PMA_lihang/mypaper/label_description/for_others/att_type{i}_i.txt', 'r') as f:\n",
    "        reader = f.readlines()\n",
    "        data = []\n",
    "        for row in reader:\n",
    "            data.append(row)\n",
    "        print(len(data))\n",
    "    \n",
    "    with open(f'/home/user/Programs/PMA_lihang/mypaper/data/1_3_aspects/AttType{i}_headTo_v_i_t.csv', 'r') as f:\n",
    "        reader = csv.reader(f)\n",
    "        data = [row for row in reader]\n",
    "        print(len(data))"
   ]
  },
  {
   "cell_type": "code",
   "execution_count": null,
   "metadata": {},
   "outputs": [],
   "source": []
  }
 ],
 "metadata": {
  "kernelspec": {
   "display_name": "base",
   "language": "python",
   "name": "python3"
  },
  "language_info": {
   "codemirror_mode": {
    "name": "ipython",
    "version": 3
   },
   "file_extension": ".py",
   "mimetype": "text/x-python",
   "name": "python",
   "nbconvert_exporter": "python",
   "pygments_lexer": "ipython3",
   "version": "3.7.11"
  },
  "orig_nbformat": 4
 },
 "nbformat": 4,
 "nbformat_minor": 2
}
